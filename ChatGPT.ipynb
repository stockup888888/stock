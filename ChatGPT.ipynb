{
 "cells": [
  {
   "cell_type": "code",
   "execution_count": null,
   "id": "7a5da75c-25d8-449f-b73b-d8a991129daa",
   "metadata": {},
   "outputs": [
    {
     "name": "stdout",
     "output_type": "stream",
     "text": [
      "                                         text sentiment\n",
      "0  I am very happy today, the sun is shining!  positive\n",
      "1  This situation makes me very disappointed.  negative\n",
      "2        The weather is okay, but a bit cold.  negative\n"
     ]
    }
   ],
   "source": [
    "import requests\n",
    "import pandas as pd\n",
    "\n",
    "# ===== Parameters =====\n",
    "# Add the key\n",
    "api_key = \"\" \n",
    "# only venus needs it\n",
    "# proxies = {\n",
    "#     \"http\": \"http://127.0.0.1:7890\",\n",
    "#     \"https\": \"http://127.0.0.1:7890\"\n",
    "# }\n",
    "\n",
    "texts = [\n",
    "    \"I am very happy today, the sun is shining!\",\n",
    "    \"This situation makes me very disappointed.\",\n",
    "    \"The weather is okay, but a bit cold.\"\n",
    "]\n",
    "\n",
    "results = []\n",
    "\n",
    "for text in texts:\n",
    "    prompt = f\"Please analyze the sentiment of the following text and return only 'positive', 'neutral', or 'negative':\\n{text}\"\n",
    "    data = {\n",
    "        \"model\": \"gpt-5-mini\",\n",
    "        \"messages\": [{\"role\": \"user\", \"content\": prompt}]\n",
    "    }\n",
    "    \n",
    "    r = requests.post(\n",
    "        \"https://api.openai.com/v1/chat/completions\",\n",
    "        headers={\"Authorization\": f\"Bearer {api_key}\", \"Content-Type\": \"application/json\"},\n",
    "        json=data,\n",
    "        proxies=proxies,\n",
    "        timeout=60\n",
    "    )\n",
    "    \n",
    "    if r.status_code == 200:\n",
    "        sentiment = r.json()[\"choices\"][0][\"message\"][\"content\"].strip()\n",
    "        results.append({\"text\": text, \"sentiment\": sentiment})\n",
    "    else:\n",
    "        results.append({\"text\": text, \"sentiment\": \"ERROR\"})\n",
    "\n",
    "# ===== Save to DataFrame =====\n",
    "df = pd.DataFrame(results)\n",
    "print(df)\n",
    "# df.to_csv(\"sentiment_results.csv\", index=False)\n"
   ]
  }
 ],
 "metadata": {
  "kernelspec": {
   "display_name": "Python 3 (ipykernel)",
   "language": "python",
   "name": "python3"
  },
  "language_info": {
   "codemirror_mode": {
    "name": "ipython",
    "version": 3
   },
   "file_extension": ".py",
   "mimetype": "text/x-python",
   "name": "python",
   "nbconvert_exporter": "python",
   "pygments_lexer": "ipython3",
   "version": "3.10.2"
  }
 },
 "nbformat": 4,
 "nbformat_minor": 5
}
