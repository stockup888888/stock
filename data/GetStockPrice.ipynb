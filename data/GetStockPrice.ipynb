{
  "nbformat": 4,
  "nbformat_minor": 0,
  "metadata": {
    "colab": {
      "provenance": []
    },
    "kernelspec": {
      "name": "python3",
      "display_name": "Python 3"
    },
    "language_info": {
      "name": "python"
    }
  },
  "cells": [
    {
      "cell_type": "code",
      "execution_count": 1,
      "metadata": {
        "id": "hazCI7eoUL5o"
      },
      "outputs": [],
      "source": [
        "import yfinance as yf\n",
        "import datetime as dt\n",
        "\n",
        "end=dt.datetime.now()\n",
        "\n"
      ]
    },
    {
      "cell_type": "code",
      "source": [
        "data = yf.download(\"AAPL\", interval='1d', end=end, start=\"2020-01-01\")\n",
        "result = data[[\"Open\", \"High\", \"Low\", \"Close\", \"Volume\"]].copy()\n",
        "# If MultiIndex, flatten it\n",
        "import pandas as pd\n",
        "if isinstance(result.columns, pd.MultiIndex):\n",
        "    result.columns = [col[0] for col in result.columns]\n",
        "result.index.name = None\n",
        "result.index.name = \"Date\""
      ],
      "metadata": {
        "id": "SM4sg5ZQU3DO",
        "colab": {
          "base_uri": "https://localhost:8080/"
        },
        "outputId": "0f2f0d02-d3a1-4806-aed9-94a0ca97bc6c"
      },
      "execution_count": 2,
      "outputs": [
        {
          "output_type": "stream",
          "name": "stderr",
          "text": [
            "/tmp/ipython-input-4233950366.py:1: FutureWarning: YF.download() has changed argument auto_adjust default to True\n",
            "  data = yf.download(\"AAPL\", interval='1d', end=end, start=\"2020-01-01\")\n",
            "[*********************100%***********************]  1 of 1 completed\n"
          ]
        }
      ]
    },
    {
      "cell_type": "code",
      "source": [
        "AUTO_ADJUST = False"
      ],
      "metadata": {
        "id": "62LGRcl6XIIv"
      },
      "execution_count": 3,
      "outputs": []
    },
    {
      "cell_type": "code",
      "source": [
        "def _download_history(ticker, start, end):\n",
        "    \"\"\"\n",
        "    Download daily OHLCV data using yfinance directly (no curl_cffi).\n",
        "    Returns a flat DataFrame with Date index and tidy columns.\n",
        "    \"\"\"\n",
        "    df = yf.download(\n",
        "        tickers=ticker,\n",
        "        start=start,\n",
        "        end=end,               # None = fetch latest available\n",
        "        auto_adjust=AUTO_ADJUST,\n",
        "        interval=\"1d\",\n",
        "        progress=False\n",
        "    )\n",
        "\n",
        "    if df is None or df.empty:\n",
        "        return pd.DataFrame()\n",
        "\n",
        "    # Flatten MultiIndex if present\n",
        "    if isinstance(df.columns, pd.MultiIndex):\n",
        "        if len(df.columns.get_level_values(1).unique()) == 1:\n",
        "            df.columns = df.columns.get_level_values(0)\n",
        "        else:\n",
        "            df.columns = ['_'.join([str(x) for x in col if x]) for col in df.columns]\n",
        "\n",
        "    # Make index tz-naive, name it Date\n",
        "    if df.index.tz is not None:\n",
        "        df.index = df.index.tz_localize(None)\n",
        "    df.index.name = \"Date\"\n",
        "\n",
        "    return df\n"
      ],
      "metadata": {
        "id": "n507g5RIU6Dd"
      },
      "execution_count": 4,
      "outputs": []
    },
    {
      "cell_type": "code",
      "source": [
        "TICKERS = [\n",
        "    # Tech\n",
        "    'GOOGL', 'META', 'NVDA', 'SMCI', 'QCOM', 'TSM', 'AMD', 'INTC', 'MSFT', 'AAPL', 'PLTR',\n",
        "\n",
        "    # AI & Data\n",
        "    'PLTR', 'SMCI', 'AI',\n",
        "\n",
        "    # E-commerce / Consumer Internet\n",
        "    'BABA', 'EBAY', 'PDD', 'SHOP',\n",
        "\n",
        "    # Transportation & Logistics\n",
        "    'UBER', 'UPS', 'DJT','TSLA',\n",
        "\n",
        "    # Crypto & Blockchain / Bitcoin\n",
        "    'COIN', 'MARA', 'MSTR', 'IBIT', 'BTC-USD', 'ETH-USD',\n",
        "\n",
        "    # Telecom\n",
        "    'VZ',\n",
        "\n",
        "    # Energy & Commodities\n",
        "    'XLE', 'XOM', 'USO', 'SMR',\n",
        "\n",
        "   # Financials\n",
        "    'C', 'SOFI', 'XLF', 'HOOD',\n",
        "\n",
        "    # Healthcare & Biotech\n",
        "    'JNJ', 'CRSP',  # CRSP = CRISPR Therapeutics\n",
        "\n",
        "    # Consumer Staples\n",
        "    'WMT', 'XLP', 'COST',\n",
        "\n",
        "    # Consumer Discretionary\n",
        "    'NKE', 'SBUX', 'XLY', 'TGT',\n",
        "\n",
        "    # Industrials\n",
        "    'GE',\n",
        "\n",
        "    # ETFs & Index Funds\n",
        "    'SPY', 'QQQ', 'QQQM', 'DIA', 'SPXL', 'SPXS', 'SQQQ', 'TLT', 'TMV', 'TMF','SOXL', 'SOXS',\n",
        "\n",
        "    # Other\n",
        "    'FIG', 'CRCL'\n",
        "]"
      ],
      "metadata": {
        "id": "id2DnWXdY_OH"
      },
      "execution_count": 5,
      "outputs": []
    },
    {
      "cell_type": "code",
      "source": [
        "for ticker in TICKERS:\n",
        "  import time\n",
        "  time.sleep(1)\n",
        "  data = _download_history(ticker, \"2020-01-01\", end)\n",
        "  data.to_csv(f\"{ticker}.csv\")\n",
        "  data.to_pickle(f\"{ticker}.pkl\")\n"
      ],
      "metadata": {
        "id": "pPvLDVWYWkWF"
      },
      "execution_count": null,
      "outputs": []
    },
    {
      "cell_type": "code",
      "source": [
        "!ls -lh *.csv"
      ],
      "metadata": {
        "colab": {
          "base_uri": "https://localhost:8080/"
        },
        "id": "TQU-yL-IZBjC",
        "outputId": "11d17963-2772-44e1-80c8-db035283b469"
      },
      "execution_count": null,
      "outputs": [
        {
          "output_type": "stream",
          "name": "stdout",
          "text": [
            "-rw-r--r-- 1 root root 151K Aug 13 03:11 MARA.csv\n",
            "-rw-r--r-- 1 root root 148K Aug 13 03:10 META.csv\n",
            "-rw-r--r-- 1 root root 149K Aug 13 03:10 MSFT.csv\n",
            "-rw-r--r-- 1 root root 148K Aug 13 03:11 MSTR.csv\n",
            "-rw-r--r-- 1 root root 148K Aug 13 03:11 NKE.csv\n",
            "-rw-r--r-- 1 root root 155K Aug 13 03:10 NVDA.csv\n",
            "-rw-r--r-- 1 root root 147K Aug 13 03:10 PDD.csv\n",
            "-rw-r--r-- 1 root root 130K Aug 13 03:10 PLTR.csv\n",
            "-rw-r--r-- 1 root root 150K Aug 13 03:10 QCOM.csv\n",
            "-rw-r--r-- 1 root root 150K Aug 13 03:11 QQQ.csv\n",
            "-rw-r--r-- 1 root root 130K Aug 13 03:11 QQQM.csv\n",
            "-rw-r--r-- 1 root root 148K Aug 13 03:11 SBUX.csv\n",
            "-rw-r--r-- 1 root root 148K Aug 13 03:10 SHOP.csv\n",
            "-rw-r--r-- 1 root root 151K Aug 13 03:10 SMCI.csv\n",
            "-rw-r--r-- 1 root root  91K Aug 13 03:11 SMR.csv\n",
            "-rw-r--r-- 1 root root 122K Aug 13 03:11 SOFI.csv\n",
            "-rw-r--r-- 1 root root 152K Aug 13 03:11 SOXL.csv\n",
            "-rw-r--r-- 1 root root 120K Aug 13 03:11 SOXS.csv\n",
            "-rw-r--r-- 1 root root 150K Aug 13 03:11 SPXL.csv\n",
            "-rw-r--r-- 1 root root 149K Aug 13 03:11 SPXS.csv\n",
            "-rw-r--r-- 1 root root 150K Aug 13 03:11 SPY.csv\n",
            "-rw-r--r-- 1 root root 123K Aug 13 03:11 SQQQ.csv\n",
            "-rw-r--r-- 1 root root 149K Aug 13 03:11 TGT.csv\n",
            "-rw-r--r-- 1 root root 151K Aug 13 03:11 TLT.csv\n",
            "-rw-r--r-- 1 root root 141K Aug 13 03:11 TMF.csv\n",
            "-rw-r--r-- 1 root root 150K Aug 13 03:11 TMV.csv\n",
            "-rw-r--r-- 1 root root 150K Aug 13 03:10 TSLA.csv\n",
            "-rw-r--r-- 1 root root 148K Aug 13 03:10 TSM.csv\n",
            "-rw-r--r-- 1 root root 147K Aug 13 03:10 UBER.csv\n",
            "-rw-r--r-- 1 root root 150K Aug 13 03:10 UPS.csv\n",
            "-rw-r--r-- 1 root root 147K Aug 13 03:11 USO.csv\n",
            "-rw-r--r-- 1 root root 150K Aug 13 03:11 VZ.csv\n",
            "-rw-r--r-- 1 root root 151K Aug 13 03:11 WMT.csv\n",
            "-rw-r--r-- 1 root root 149K Aug 13 03:11 XLE.csv\n",
            "-rw-r--r-- 1 root root 152K Aug 13 03:11 XLF.csv\n",
            "-rw-r--r-- 1 root root 147K Aug 13 03:11 XLP.csv\n",
            "-rw-r--r-- 1 root root 152K Aug 13 03:11 XLY.csv\n",
            "-rw-r--r-- 1 root root 151K Aug 13 03:11 XOM.csv\n"
          ]
        }
      ]
    },
    {
      "cell_type": "code",
      "source": [
        "!zip csv_files.zip *.csv"
      ],
      "metadata": {
        "colab": {
          "base_uri": "https://localhost:8080/"
        },
        "id": "aVMID-6hZJ2x",
        "outputId": "2ff381b2-89d4-4a6a-d81a-3094c85ef776"
      },
      "execution_count": null,
      "outputs": [
        {
          "output_type": "stream",
          "name": "stdout",
          "text": [
            "  adding: MARA.csv (deflated 82%)\n",
            "  adding: META.csv (deflated 73%)\n",
            "  adding: MSFT.csv (deflated 74%)\n",
            "  adding: MSTR.csv (deflated 76%)\n",
            "  adding: NKE.csv (deflated 75%)\n",
            "  adding: NVDA.csv (deflated 70%)\n",
            "  adding: PDD.csv (deflated 80%)\n",
            "  adding: PLTR.csv (deflated 80%)\n",
            "  adding: QCOM.csv (deflated 75%)\n",
            "  adding: QQQ.csv (deflated 74%)\n",
            "  adding: QQQM.csv (deflated 75%)\n",
            "  adding: SBUX.csv (deflated 75%)\n",
            "  adding: SHOP.csv (deflated 77%)\n",
            "  adding: SMCI.csv (deflated 79%)\n",
            "  adding: SMR.csv (deflated 81%)\n",
            "  adding: SOFI.csv (deflated 81%)\n",
            "  adding: SOXL.csv (deflated 72%)\n",
            "  adding: SOXS.csv (deflated 71%)\n",
            "  adding: SPXL.csv (deflated 74%)\n",
            "  adding: SPXS.csv (deflated 76%)\n",
            "  adding: SPY.csv (deflated 74%)\n",
            "  adding: SQQQ.csv (deflated 71%)\n",
            "  adding: TGT.csv (deflated 74%)\n",
            "  adding: TLT.csv (deflated 75%)\n",
            "  adding: TMF.csv (deflated 75%)\n",
            "  adding: TMV.csv (deflated 75%)\n",
            "  adding: TSLA.csv (deflated 77%)\n",
            "  adding: TSM.csv (deflated 74%)\n",
            "  adding: UBER.csv (deflated 80%)\n",
            "  adding: UPS.csv (deflated 75%)\n",
            "  adding: USO.csv (deflated 82%)\n",
            "  adding: VZ.csv (deflated 76%)\n",
            "  adding: WMT.csv (deflated 75%)\n",
            "  adding: XLE.csv (deflated 75%)\n",
            "  adding: XLF.csv (deflated 76%)\n",
            "  adding: XLP.csv (deflated 76%)\n",
            "  adding: XLY.csv (deflated 75%)\n",
            "  adding: XOM.csv (deflated 75%)\n"
          ]
        }
      ]
    },
    {
      "cell_type": "code",
      "source": [
        "from google.colab import files\n",
        "files.download(\"csv_files.zip\")"
      ],
      "metadata": {
        "colab": {
          "base_uri": "https://localhost:8080/",
          "height": 17
        },
        "id": "IoE4Kl31ZfDP",
        "outputId": "c6c9e014-998a-4921-c18c-da3672b89ca1"
      },
      "execution_count": null,
      "outputs": [
        {
          "output_type": "display_data",
          "data": {
            "text/plain": [
              "<IPython.core.display.Javascript object>"
            ],
            "application/javascript": [
              "\n",
              "    async function download(id, filename, size) {\n",
              "      if (!google.colab.kernel.accessAllowed) {\n",
              "        return;\n",
              "      }\n",
              "      const div = document.createElement('div');\n",
              "      const label = document.createElement('label');\n",
              "      label.textContent = `Downloading \"${filename}\": `;\n",
              "      div.appendChild(label);\n",
              "      const progress = document.createElement('progress');\n",
              "      progress.max = size;\n",
              "      div.appendChild(progress);\n",
              "      document.body.appendChild(div);\n",
              "\n",
              "      const buffers = [];\n",
              "      let downloaded = 0;\n",
              "\n",
              "      const channel = await google.colab.kernel.comms.open(id);\n",
              "      // Send a message to notify the kernel that we're ready.\n",
              "      channel.send({})\n",
              "\n",
              "      for await (const message of channel.messages) {\n",
              "        // Send a message to notify the kernel that we're ready.\n",
              "        channel.send({})\n",
              "        if (message.buffers) {\n",
              "          for (const buffer of message.buffers) {\n",
              "            buffers.push(buffer);\n",
              "            downloaded += buffer.byteLength;\n",
              "            progress.value = downloaded;\n",
              "          }\n",
              "        }\n",
              "      }\n",
              "      const blob = new Blob(buffers, {type: 'application/binary'});\n",
              "      const a = document.createElement('a');\n",
              "      a.href = window.URL.createObjectURL(blob);\n",
              "      a.download = filename;\n",
              "      div.appendChild(a);\n",
              "      a.click();\n",
              "      div.remove();\n",
              "    }\n",
              "  "
            ]
          },
          "metadata": {}
        },
        {
          "output_type": "display_data",
          "data": {
            "text/plain": [
              "<IPython.core.display.Javascript object>"
            ],
            "application/javascript": [
              "download(\"download_b5fb5dfd-eb28-409d-8fdf-15a90b075afd\", \"csv_files.zip\", 1364460)"
            ]
          },
          "metadata": {}
        }
      ]
    },
    {
      "cell_type": "code",
      "source": [
        "# 1. Zip the folder (replace 'Data' with your folder name)\n",
        "!zip -r my_data_folder.zip Data\n",
        "\n",
        "# 2. Download the zip file\n",
        "from google.colab import files\n",
        "files.download(\"my_data_folder.zip\")\n"
      ],
      "metadata": {
        "colab": {
          "base_uri": "https://localhost:8080/",
          "height": 764
        },
        "id": "QAhyDLuubcko",
        "outputId": "df0f0412-971f-42f4-ab65-e5f3b86c657b"
      },
      "execution_count": null,
      "outputs": [
        {
          "output_type": "stream",
          "name": "stdout",
          "text": [
            "  adding: Data/ (stored 0%)\n",
            "  adding: Data/HOOD.csv (deflated 80%)\n",
            "  adding: Data/AI.pkl (deflated 61%)\n",
            "  adding: Data/ETH-USD.csv (deflated 69%)\n",
            "  adding: Data/AAPL.csv (deflated 74%)\n",
            "  adding: Data/EBAY.csv (deflated 75%)\n",
            "  adding: Data/C.csv (deflated 75%)\n",
            "  adding: Data/AMD.csv (deflated 80%)\n",
            "  adding: Data/DJT.pkl (deflated 61%)\n",
            "  adding: Data/C.pkl (deflated 55%)\n",
            "  adding: Data/DJT.csv (deflated 80%)\n",
            "  adding: Data/BABA.csv (deflated 73%)\n",
            "  adding: Data/JNJ.csv (deflated 76%)\n",
            "  adding: Data/FIG.pkl (deflated 44%)\n",
            "  adding: Data/INTC.pkl (deflated 56%)\n",
            "  adding: Data/BTC-USD.csv (deflated 67%)\n",
            "  adding: Data/EBAY.pkl (deflated 56%)\n",
            "  adding: Data/AMD.pkl (deflated 60%)\n",
            "  adding: Data/JNJ.pkl (deflated 56%)\n",
            "  adding: Data/GOOGL.csv (deflated 72%)\n",
            "  adding: Data/COST.csv (deflated 73%)\n",
            "  adding: Data/GOOGL.pkl (deflated 51%)\n",
            "  adding: Data/CRSP.csv (deflated 80%)\n",
            "  adding: Data/HOOD.pkl (deflated 61%)\n",
            "  adding: Data/BABA.pkl (deflated 53%)\n",
            "  adding: Data/DIA.pkl (deflated 55%)\n",
            "  adding: Data/GE.pkl (deflated 52%)\n",
            "  adding: Data/GE.csv (deflated 68%)\n",
            "  adding: Data/COIN.csv (deflated 79%)\n",
            "  adding: Data/CRCL.pkl (deflated 50%)\n",
            "  adding: Data/FIG.csv (deflated 59%)\n",
            "  adding: Data/IBIT.pkl (deflated 58%)\n",
            "  adding: Data/ETH-USD.pkl (deflated 51%)\n",
            "  adding: Data/INTC.csv (deflated 76%)\n",
            "  adding: Data/COST.pkl (deflated 55%)\n",
            "  adding: Data/IBIT.csv (deflated 79%)\n",
            "  adding: Data/CRSP.pkl (deflated 61%)\n",
            "  adding: Data/CRCL.csv (deflated 71%)\n",
            "  adding: Data/COIN.pkl (deflated 58%)\n",
            "  adding: Data/BTC-USD.pkl (deflated 51%)\n",
            "  adding: Data/DIA.csv (deflated 75%)\n",
            "  adding: Data/AI.csv (deflated 80%)\n",
            "  adding: Data/AAPL.pkl (deflated 53%)\n"
          ]
        },
        {
          "output_type": "display_data",
          "data": {
            "text/plain": [
              "<IPython.core.display.Javascript object>"
            ],
            "application/javascript": [
              "\n",
              "    async function download(id, filename, size) {\n",
              "      if (!google.colab.kernel.accessAllowed) {\n",
              "        return;\n",
              "      }\n",
              "      const div = document.createElement('div');\n",
              "      const label = document.createElement('label');\n",
              "      label.textContent = `Downloading \"${filename}\": `;\n",
              "      div.appendChild(label);\n",
              "      const progress = document.createElement('progress');\n",
              "      progress.max = size;\n",
              "      div.appendChild(progress);\n",
              "      document.body.appendChild(div);\n",
              "\n",
              "      const buffers = [];\n",
              "      let downloaded = 0;\n",
              "\n",
              "      const channel = await google.colab.kernel.comms.open(id);\n",
              "      // Send a message to notify the kernel that we're ready.\n",
              "      channel.send({})\n",
              "\n",
              "      for await (const message of channel.messages) {\n",
              "        // Send a message to notify the kernel that we're ready.\n",
              "        channel.send({})\n",
              "        if (message.buffers) {\n",
              "          for (const buffer of message.buffers) {\n",
              "            buffers.push(buffer);\n",
              "            downloaded += buffer.byteLength;\n",
              "            progress.value = downloaded;\n",
              "          }\n",
              "        }\n",
              "      }\n",
              "      const blob = new Blob(buffers, {type: 'application/binary'});\n",
              "      const a = document.createElement('a');\n",
              "      a.href = window.URL.createObjectURL(blob);\n",
              "      a.download = filename;\n",
              "      div.appendChild(a);\n",
              "      a.click();\n",
              "      div.remove();\n",
              "    }\n",
              "  "
            ]
          },
          "metadata": {}
        },
        {
          "output_type": "display_data",
          "data": {
            "text/plain": [
              "<IPython.core.display.Javascript object>"
            ],
            "application/javascript": [
              "download(\"download_b6d8d4b2-7e9b-4132-9d75-aad6e8e85f12\", \"my_data_folder.zip\", 1354685)"
            ]
          },
          "metadata": {}
        }
      ]
    },
    {
      "cell_type": "code",
      "source": [],
      "metadata": {
        "id": "cgytGQCnbt6U"
      },
      "execution_count": null,
      "outputs": []
    }
  ]
}